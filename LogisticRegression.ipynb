{
 "cells": [
  {
   "cell_type": "code",
   "execution_count": 60,
   "metadata": {},
   "outputs": [],
   "source": [
    "import pandas as pd\n",
    "from nltk.corpus import stopwords\n",
    "from nltk.tokenize import TweetTokenizer\n",
    "from nltk.stem import PorterStemmer\n",
    "from nltk.corpus import stopwords\n",
    "import re\n",
    "from numpy import *  \n",
    "import matplotlib.pyplot as plt\n",
    "import numpy as np\n",
    "import glob\n",
    "import operator\n",
    "import pickle\n",
    "import nltk\n",
    "from string import digits \n",
    "\n",
    "from sklearn.metrics import f1_score\n",
    "from sklearn.metrics import precision_recall_fscore_support\n",
    "from sklearn.metrics import classification_report, confusion_matrix, accuracy_score\n"
   ]
  },
  {
   "cell_type": "code",
   "execution_count": null,
   "metadata": {},
   "outputs": [],
   "source": []
  },
  {
   "cell_type": "code",
   "execution_count": 2,
   "metadata": {},
   "outputs": [
    {
     "data": {
      "text/html": [
       "<div>\n",
       "<style scoped>\n",
       "    .dataframe tbody tr th:only-of-type {\n",
       "        vertical-align: middle;\n",
       "    }\n",
       "\n",
       "    .dataframe tbody tr th {\n",
       "        vertical-align: top;\n",
       "    }\n",
       "\n",
       "    .dataframe thead th {\n",
       "        text-align: right;\n",
       "    }\n",
       "</style>\n",
       "<table border=\"1\" class=\"dataframe\">\n",
       "  <thead>\n",
       "    <tr style=\"text-align: right;\">\n",
       "      <th></th>\n",
       "      <th>id</th>\n",
       "      <th>comment_text</th>\n",
       "      <th>toxic</th>\n",
       "      <th>severe_toxic</th>\n",
       "      <th>obscene</th>\n",
       "      <th>threat</th>\n",
       "      <th>insult</th>\n",
       "      <th>identity_hate</th>\n",
       "    </tr>\n",
       "  </thead>\n",
       "  <tbody>\n",
       "    <tr>\n",
       "      <th>28482</th>\n",
       "      <td>4b684cef8a6befaa</td>\n",
       "      <td>\"\\nIf you are going to write an article about ...</td>\n",
       "      <td>0</td>\n",
       "      <td>0</td>\n",
       "      <td>0</td>\n",
       "      <td>0</td>\n",
       "      <td>0</td>\n",
       "      <td>0</td>\n",
       "    </tr>\n",
       "    <tr>\n",
       "      <th>133259</th>\n",
       "      <td>c8f696ce3474999c</td>\n",
       "      <td>Username \\nYou might want to become a register...</td>\n",
       "      <td>0</td>\n",
       "      <td>0</td>\n",
       "      <td>0</td>\n",
       "      <td>0</td>\n",
       "      <td>0</td>\n",
       "      <td>0</td>\n",
       "    </tr>\n",
       "    <tr>\n",
       "      <th>48068</th>\n",
       "      <td>8069862139cadd98</td>\n",
       "      <td>Where can I find kellers star ratings 142.162....</td>\n",
       "      <td>0</td>\n",
       "      <td>0</td>\n",
       "      <td>0</td>\n",
       "      <td>0</td>\n",
       "      <td>0</td>\n",
       "      <td>0</td>\n",
       "    </tr>\n",
       "    <tr>\n",
       "      <th>100752</th>\n",
       "      <td>1b41c1c4b0caecbd</td>\n",
       "      <td>then don't live with it!   Screw YOUR TYRANNY ...</td>\n",
       "      <td>1</td>\n",
       "      <td>0</td>\n",
       "      <td>0</td>\n",
       "      <td>0</td>\n",
       "      <td>0</td>\n",
       "      <td>0</td>\n",
       "    </tr>\n",
       "    <tr>\n",
       "      <th>115219</th>\n",
       "      <td>68137893e71c9e4c</td>\n",
       "      <td>\"|decline=You have asked for guidance - it is ...</td>\n",
       "      <td>0</td>\n",
       "      <td>0</td>\n",
       "      <td>0</td>\n",
       "      <td>0</td>\n",
       "      <td>0</td>\n",
       "      <td>0</td>\n",
       "    </tr>\n",
       "  </tbody>\n",
       "</table>\n",
       "</div>"
      ],
      "text/plain": [
       "                      id                                       comment_text  \\\n",
       "28482   4b684cef8a6befaa  \"\\nIf you are going to write an article about ...   \n",
       "133259  c8f696ce3474999c  Username \\nYou might want to become a register...   \n",
       "48068   8069862139cadd98  Where can I find kellers star ratings 142.162....   \n",
       "100752  1b41c1c4b0caecbd  then don't live with it!   Screw YOUR TYRANNY ...   \n",
       "115219  68137893e71c9e4c  \"|decline=You have asked for guidance - it is ...   \n",
       "\n",
       "        toxic  severe_toxic  obscene  threat  insult  identity_hate  \n",
       "28482       0             0        0       0       0              0  \n",
       "133259      0             0        0       0       0              0  \n",
       "48068       0             0        0       0       0              0  \n",
       "100752      1             0        0       0       0              0  \n",
       "115219      0             0        0       0       0              0  "
      ]
     },
     "execution_count": 2,
     "metadata": {},
     "output_type": "execute_result"
    }
   ],
   "source": [
    "df = pd.read_csv('../data/jigsaw-toxic-comment-classification-challenge/train.csv')\n",
    "df.sample(5)"
   ]
  },
  {
   "cell_type": "markdown",
   "metadata": {},
   "source": [
    "# Exploration"
   ]
  },
  {
   "cell_type": "code",
   "execution_count": 8,
   "metadata": {},
   "outputs": [
    {
     "data": {
      "text/plain": [
       "(159571, 8)"
      ]
     },
     "execution_count": 8,
     "metadata": {},
     "output_type": "execute_result"
    }
   ],
   "source": [
    "df.shape"
   ]
  },
  {
   "cell_type": "code",
   "execution_count": 9,
   "metadata": {},
   "outputs": [
    {
     "name": "stdout",
     "output_type": "stream",
     "text": [
      "<class 'pandas.core.frame.DataFrame'>\n",
      "RangeIndex: 159571 entries, 0 to 159570\n",
      "Data columns (total 8 columns):\n",
      " #   Column         Non-Null Count   Dtype \n",
      "---  ------         --------------   ----- \n",
      " 0   id             159571 non-null  object\n",
      " 1   comment_text   159571 non-null  object\n",
      " 2   toxic          159571 non-null  int64 \n",
      " 3   severe_toxic   159571 non-null  int64 \n",
      " 4   obscene        159571 non-null  int64 \n",
      " 5   threat         159571 non-null  int64 \n",
      " 6   insult         159571 non-null  int64 \n",
      " 7   identity_hate  159571 non-null  int64 \n",
      "dtypes: int64(6), object(2)\n",
      "memory usage: 9.7+ MB\n"
     ]
    }
   ],
   "source": [
    "df.info()"
   ]
  },
  {
   "cell_type": "code",
   "execution_count": 36,
   "metadata": {},
   "outputs": [
    {
     "name": "stdout",
     "output_type": "stream",
     "text": [
      "Total of comments,  159571\n",
      "Total number of non toxic comments:  143346\n",
      "Total number of toxic comments:  16225\n"
     ]
    },
    {
     "data": {
      "image/png": "[encoded data removed]",
      "text/plain": [
       "<Figure size 432x288 with 1 Axes>"
      ]
     },
     "metadata": {},
     "output_type": "display_data"
    }
   ],
   "source": [
    "row_sums=df.iloc[:,2:].sum(axis=1)\n",
    "non_toxic =(row_sums==0)\n",
    "toxic=len(df)-non_toxic.sum()\n",
    "\n",
    "print(\"Total of comments, \",len(df))\n",
    "print(\"Total number of non toxic comments: \", non_toxic.sum())\n",
    "print(\"Total number of toxic comments: \", toxic)\n",
    "\n",
    "labels = ['Non toxic comments', 'Toxic comments']\n",
    "sizes = [non_toxic.sum(),toxic]\n",
    "colors = ['blue', 'green']\n",
    "# Data to plot\n",
    "explode = (0, 0.05)  # explode 1st slice\n",
    "\n",
    "# Plot\n",
    "plt.pie(sizes, explode=explode, labels=labels, colors=colors,\n",
    "autopct='%1.1f%%', shadow=True, startangle=45)\n",
    "\n",
    "plt.axis('equal')\n",
    "plt.show()"
   ]
  },
  {
   "cell_type": "code",
   "execution_count": 37,
   "metadata": {},
   "outputs": [
    {
     "name": "stdout",
     "output_type": "stream",
     "text": [
      "Number of rows with multiple labling:  9865\n"
     ]
    }
   ],
   "source": [
    "print(\"Number of rows with multiple labling: \", (rowsums > 1).sum())"
   ]
  },
  {
   "cell_type": "code",
   "execution_count": 83,
   "metadata": {},
   "outputs": [
    {
     "data": {
      "image/png": "[encoded data removed]",
      "text/plain": [
       "<Figure size 432x288 with 1 Axes>"
      ]
     },
     "metadata": {},
     "output_type": "display_data"
    }
   ],
   "source": [
    "multiclass=(rowsums > 1).sum()\n",
    "# Plot\n",
    "plt.pie([toxic.sum()-multiclass,multiclass], explode=(0,0.1), \n",
    "        labels=['Single class', 'Multi Class'], colors=['red', 'green'], autopct='%1.1f%%', \n",
    "        shadow=True, startangle=45)\n",
    "plt.axis('equal')\n",
    "plt.show()"
   ]
  },
  {
   "cell_type": "markdown",
   "metadata": {},
   "source": [
    "Over the half of the toxic comments are multiclass with two or more toxic classifications   \n",
    "We are going to spli the data set in toxic and no toxic comments, with a new column, and the rest of the columns to describe toxicity will be deleted"
   ]
  },
  {
   "cell_type": "code",
   "execution_count": 40,
   "metadata": {},
   "outputs": [
    {
     "data": {
      "text/plain": [
       "Index(['id', 'comment_text', 'toxic', 'severe_toxic', 'obscene', 'threat',\n",
       "       'insult', 'identity_hate'],\n",
       "      dtype='object')"
      ]
     },
     "execution_count": 40,
     "metadata": {},
     "output_type": "execute_result"
    }
   ],
   "source": [
    "df.columns"
   ]
  },
  {
   "cell_type": "code",
   "execution_count": 174,
   "metadata": {},
   "outputs": [
    {
     "data": {
      "text/html": [
       "<div>\n",
       "<style scoped>\n",
       "    .dataframe tbody tr th:only-of-type {\n",
       "        vertical-align: middle;\n",
       "    }\n",
       "\n",
       "    .dataframe tbody tr th {\n",
       "        vertical-align: top;\n",
       "    }\n",
       "\n",
       "    .dataframe thead th {\n",
       "        text-align: right;\n",
       "    }\n",
       "</style>\n",
       "<table border=\"1\" class=\"dataframe\">\n",
       "  <thead>\n",
       "    <tr style=\"text-align: right;\">\n",
       "      <th></th>\n",
       "      <th>id</th>\n",
       "      <th>comment_text</th>\n",
       "      <th>Toxic</th>\n",
       "    </tr>\n",
       "  </thead>\n",
       "  <tbody>\n",
       "    <tr>\n",
       "      <th>140418</th>\n",
       "      <td>ef636ecedd1745ea</td>\n",
       "      <td>will you be my friend?</td>\n",
       "      <td>0</td>\n",
       "    </tr>\n",
       "    <tr>\n",
       "      <th>119373</th>\n",
       "      <td>7e334eae358e054d</td>\n",
       "      <td>\"\\n\\nBiography vs. movie plot\\n\"\"The shorter b...</td>\n",
       "      <td>0</td>\n",
       "    </tr>\n",
       "    <tr>\n",
       "      <th>101444</th>\n",
       "      <td>1ef188102237ecec</td>\n",
       "      <td>Really? Ya don't say? Who'd a thunk?</td>\n",
       "      <td>0</td>\n",
       "    </tr>\n",
       "    <tr>\n",
       "      <th>72708</th>\n",
       "      <td>c286397e5ca92e64</td>\n",
       "      <td>\"\\n\\n Concerning the 1-week block decision by ...</td>\n",
       "      <td>0</td>\n",
       "    </tr>\n",
       "    <tr>\n",
       "      <th>50566</th>\n",
       "      <td>8737ff5c3cfab59b</td>\n",
       "      <td>Illegal \\n\\nYou guys need to remove this page....</td>\n",
       "      <td>0</td>\n",
       "    </tr>\n",
       "  </tbody>\n",
       "</table>\n",
       "</div>"
      ],
      "text/plain": [
       "                      id                                       comment_text  \\\n",
       "140418  ef636ecedd1745ea                             will you be my friend?   \n",
       "119373  7e334eae358e054d  \"\\n\\nBiography vs. movie plot\\n\"\"The shorter b...   \n",
       "101444  1ef188102237ecec               Really? Ya don't say? Who'd a thunk?   \n",
       "72708   c286397e5ca92e64  \"\\n\\n Concerning the 1-week block decision by ...   \n",
       "50566   8737ff5c3cfab59b  Illegal \\n\\nYou guys need to remove this page....   \n",
       "\n",
       "        Toxic  \n",
       "140418      0  \n",
       "119373      0  \n",
       "101444      0  \n",
       "72708       0  \n",
       "50566       0  "
      ]
     },
     "execution_count": 174,
     "metadata": {},
     "output_type": "execute_result"
    }
   ],
   "source": [
    "def typeComment(df):\n",
    "    # If the comment has value more than 0, then it is  toxic. Otherwise non-toxic\n",
    "    score=list(df.sum(axis = 1, skipna = True))\n",
    "    new_score = [1 if (x>0) else 0 for x in score]\n",
    "    return(new_score)\n",
    "df['Toxic'] = typeComment(df)\n",
    "toxic_columns=['toxic','severe_toxic','obscene','threat','insult','identity_hate']\n",
    "df = df.drop(columns=toxic_columns)\n",
    "df.sample(5)"
   ]
  },
  {
   "cell_type": "code",
   "execution_count": null,
   "metadata": {},
   "outputs": [],
   "source": []
  },
  {
   "cell_type": "code",
   "execution_count": 78,
   "metadata": {},
   "outputs": [],
   "source": [
    "def makingClasses(df):\n",
    "    toxic = df[df.Toxic == 1]\n",
    "    non_toxic = df[df.Toxic == 0]\n",
    "    total_data = len(df)\n",
    "    def printDFrame(name, frame, total_data):\n",
    "        print(name + \": \" + str(frame.shape[0]) + \" \" + str(frame.shape[0]/total_data * 100) + \"%\")\n",
    "    p = printDFrame\n",
    "    p(\"Toxic\", toxic, total_data)\n",
    "    p(\"Non toxic\", non_toxic, total_data)\n",
    "    return toxic, non_toxic"
   ]
  },
  {
   "cell_type": "code",
   "execution_count": 131,
   "metadata": {},
   "outputs": [
    {
     "name": "stdout",
     "output_type": "stream",
     "text": [
      "Toxic: 16225 10.167887648758233%\n",
      "Non toxic: 143346 89.83211235124176%\n"
     ]
    }
   ],
   "source": [
    "toxic, non_toxic = makingClasses"
   ]
  },
  {
   "cell_type": "code",
   "execution_count": 132,
   "metadata": {},
   "outputs": [],
   "source": [
    "non_toxic=non_toxic.sample(len(toxic))"
   ]
  },
  {
   "cell_type": "markdown",
   "metadata": {},
   "source": [
    "## Distribution of capital letters"
   ]
  },
  {
   "cell_type": "code",
   "execution_count": 159,
   "metadata": {},
   "outputs": [
    {
     "name": "stderr",
     "output_type": "stream",
     "text": [
      "/usr/local/lib/python3.6/dist-packages/ipykernel_launcher.py:2: DeprecationWarning: Calling np.sum(generator) is deprecated, and in the future will give a different result. Use np.sum(np.fromiter(generator)) or the python sum builtin instead.\n",
      "  \n",
      "/usr/local/lib/python3.6/dist-packages/ipykernel_launcher.py:4: DeprecationWarning: Calling np.sum(generator) is deprecated, and in the future will give a different result. Use np.sum(np.fromiter(generator)) or the python sum builtin instead.\n",
      "  after removing the cwd from sys.path.\n"
     ]
    }
   ],
   "source": [
    "T_words = toxic['comment_text'].apply(lambda comment: \n",
    "                                           sum(1 for c in comment if c.isupper())/len(comment.split())) \n",
    "N_words = non_toxic['comment_text'].apply(lambda comment: \n",
    "                                          sum(1 for c in comment if c.isupper())/len(comment.split())) "
   ]
  },
  {
   "cell_type": "code",
   "execution_count": 160,
   "metadata": {},
   "outputs": [
    {
     "data": {
      "image/png": "[encoded data removed]",
      "text/plain": [
       "<Figure size 1440x360 with 1 Axes>"
      ]
     },
     "metadata": {
      "needs_background": "light"
     },
     "output_type": "display_data"
    }
   ],
   "source": [
    "fig= plt.figure(figsize=(20,5))\n",
    "fig.suptitle('Words Distribution (toxic)', fontsize=20)\n",
    "plt.xlabel('Lenght of words', fontsize=14)\n",
    "plt.ylabel('Frecuency', fontsize=14)\n",
    "plt.hist(T_words,bins = np.arange(0,1,0.01))\n",
    "plt.show()"
   ]
  },
  {
   "cell_type": "code",
   "execution_count": 161,
   "metadata": {},
   "outputs": [
    {
     "data": {
      "image/png": "[encoded data removed]",
      "text/plain": [
       "<Figure size 1440x360 with 1 Axes>"
      ]
     },
     "metadata": {
      "needs_background": "light"
     },
     "output_type": "display_data"
    }
   ],
   "source": [
    "fig= plt.figure(figsize=(20,5))\n",
    "fig.suptitle('Words Distribution (non toxic)', fontsize=20)\n",
    "plt.xlabel('Lenght of words', fontsize=14)\n",
    "plt.ylabel('Frecuency', fontsize=14)\n",
    "plt.hist(N_words,bins = np.arange(0,1,0.01))\n",
    "plt.show()"
   ]
  },
  {
   "cell_type": "markdown",
   "metadata": {},
   "source": [
    "The are more words with capital letter in the non_toxic set, we can see much more comments with zero capital letters in the toxic set"
   ]
  },
  {
   "cell_type": "markdown",
   "metadata": {},
   "source": [
    "## Distribution of unique words"
   ]
  },
  {
   "cell_type": "code",
   "execution_count": 140,
   "metadata": {},
   "outputs": [],
   "source": [
    "P_words = toxic['comment_text'].apply(lambda comment: \n",
    "                                          len(comment.split())/ len(set(w for w in comment.split()))) \n",
    "# Positive words\n",
    "N_words = non_toxic['comment_text'].apply(lambda comment: \n",
    "                                          len(comment.split())/ len(set(w for w in comment.split())))"
   ]
  },
  {
   "cell_type": "code",
   "execution_count": 148,
   "metadata": {},
   "outputs": [
    {
     "data": {
      "image/png": "[encoded data removed]",
      "text/plain": [
       "<Figure size 1440x360 with 1 Axes>"
      ]
     },
     "metadata": {
      "needs_background": "light"
     },
     "output_type": "display_data"
    }
   ],
   "source": [
    "fig= plt.figure(figsize=(20,5))\n",
    "fig.suptitle('Words Distribution (Positive)', fontsize=20)\n",
    "plt.xlabel('Lenght of words', fontsize=14)\n",
    "plt.ylabel('Frecuency', fontsize=14)\n",
    "plt.hist(P_words,bins = np.arange(1,2.5,0.05))\n",
    "plt.show()"
   ]
  },
  {
   "cell_type": "code",
   "execution_count": 149,
   "metadata": {},
   "outputs": [
    {
     "data": {
      "image/png": "[encoded data removed]",
      "text/plain": [
       "<Figure size 1440x360 with 1 Axes>"
      ]
     },
     "metadata": {
      "needs_background": "light"
     },
     "output_type": "display_data"
    }
   ],
   "source": [
    "fig= plt.figure(figsize=(20,5))\n",
    "fig.suptitle('Words Distribution (Negative)', fontsize=20)\n",
    "plt.xlabel('Lenght of words', fontsize=14)\n",
    "plt.ylabel('Frecuency', fontsize=14)\n",
    "plt.hist(N_words,bins = np.arange(1,2.5,0.05))\n",
    "plt.show()"
   ]
  },
  {
   "cell_type": "code",
   "execution_count": null,
   "metadata": {},
   "outputs": [],
   "source": []
  },
  {
   "cell_type": "code",
   "execution_count": 150,
   "metadata": {},
   "outputs": [
    {
     "name": "stdout",
     "output_type": "stream",
     "text": [
      "9541 6864\n"
     ]
    }
   ],
   "source": [
    "Qtoxic = toxic['comment_text'].apply(lambda comment: comment.count('?'))\n",
    "Qmon_toxic = non_toxic['comment_text'].apply(lambda comment: comment.count('?'))\n",
    "print(exp.sum(),exn.sum())\n",
    "# question mark is more common in toxic comments"
   ]
  },
  {
   "cell_type": "code",
   "execution_count": 158,
   "metadata": {},
   "outputs": [
    {
     "name": "stdout",
     "output_type": "stream",
     "text": [
      "9075 26\n"
     ]
    }
   ],
   "source": [
    "Ftoxic = toxic['comment_text'].apply(lambda comment: comment.count('fuck') )\n",
    "Fnontoxic = non_toxic['comment_text'].apply(lambda comment: comment.count('fuck'))\n",
    "print(exp.sum(),exn.sum())\n",
    "# the use of the word \"fuck\" is much more frequent in the toxic comments"
   ]
  },
  {
   "cell_type": "code",
   "execution_count": null,
   "metadata": {},
   "outputs": [],
   "source": []
  },
  {
   "cell_type": "markdown",
   "metadata": {},
   "source": [
    "# Preprocessing"
   ]
  },
  {
   "cell_type": "code",
   "execution_count": 6,
   "metadata": {},
   "outputs": [
    {
     "name": "stderr",
     "output_type": "stream",
     "text": [
      "/usr/local/lib/python3.6/dist-packages/ipykernel_launcher.py:3: DeprecationWarning: Calling np.sum(generator) is deprecated, and in the future will give a different result. Use np.sum(np.fromiter(generator)) or the python sum builtin instead.\n",
      "  This is separate from the ipykernel package so we can avoid doing imports until\n"
     ]
    }
   ],
   "source": [
    "def Features(df):\n",
    "    capital=df['comment_text'].apply(lambda comment: \n",
    "                                       sum(1 for c in comment if c.isupper())/len(comment.split()))\n",
    "    questions = df['comment_text'].apply(lambda comment: comment.count('?'))\n",
    "    F_word = df['comment_text'].apply(lambda comment: comment.count('fuck') )\n",
    "    return capital, questions, F_word\n",
    "capital, questions, F_word = Features(df)"
   ]
  },
  {
   "cell_type": "code",
   "execution_count": 175,
   "metadata": {},
   "outputs": [],
   "source": [
    "special_chars = r\"[^a-z@#\\$%\\^\\&\\*_\\-,\\.' ]ðÿœžðÿâœœïÿœžÿºÿÿœžÿ\"\n",
    "\n",
    "RE_PATTERNS = {\n",
    "    ' fuck':['(f)([^a-z]*)(u)([^a-z]*)(c)([^a-z]*)(k)','(f)(u|[^a-z0-9 ])(c|[^a-z0-9 ])(k|[^a-z0-9 ])([^ ])*',\n",
    "            'feck ', ' fux ', 'f\\*\\*', 'f\\-ing', 'f u u c', '(f)(c|[^a-z ])(u|[^a-z ])(k)', r'f\\*',' fu ',\n",
    "            'f[!@#\\$%\\^\\&\\*]*u[!@#\\$%\\^&\\*]*k', 'f\\.u\\.', 'f###', 'f@ck', 'f u c k', 'f uck', 'f ck' ],\n",
    "    ' ass ':['[^a-z]ass ', '[^a-z]azz ', 'arrse', ' arse ', '@\\$\\$', '[^a-z]anus', ' a\\*s\\*s', \n",
    "        '[^a-z]ass[^a-z ]', 'a[@#\\$%\\^&\\*][@#\\$%\\^&\\*]', '[^a-z]anal ', 'a s s'],\n",
    "    ' ass hole ':[' a[s|z]*wipe', 'a[s|z]*[w]*h[o|0]+[l]*e', '@\\$\\$hole'],\n",
    "    ' bitch ':['(b)([^a-z]*)(i)([^a-z]*)(t)([^a-z]*)(c)([^a-z]*)(h)', 'b!tch','bi\\+ch', 'b!\\+ch',\n",
    "               'b[w]*i[t]*ch','biatch', 'bi\\*\\*h', 'bytch', 'b i t c h'],\n",
    "    ' bastard ':['ba[s|z]+t[e|a]+rd'],\n",
    "    ' dick ':[' dick[^aeiou]', 'deek', 'd i c k'],\n",
    "    ' suck ':[ 'sucker', '(s)([^a-z ]*)(u)([^a-z ]*)(c)([^a-z ]*)(k)', 'sucks', '5uck', 's u c k'],\n",
    "    ' cunt ':['c u n t'],\n",
    "    ' bull shit ':[ 'bullsh\\*t', 'bull\\$hit'],\n",
    "    ' idiot ':['i[d]+io[t]+', '(i)([^a-z ]*)(d)([^a-z ]*)(i)([^a-z ]*)(o)([^a-z ]*)(t)','idiots','i d i o t'],\n",
    "    ' cock ':['[^a-z]cock', 'c0ck', '[^a-z]cok ', 'c0k', '[^a-z]cok[^aeiou]', ' cawk',\n",
    "            '(c)([^a-z ])(o)([^a-z ]*)(c)([^a-z ]*)(k)', 'c o c k'],\n",
    "    ' dumb ':['(d)([^a-z ]*)(u)([^a-z ]*)(m)([^a-z ]*)(b)'],\n",
    "    ' shit ':['shitty', '(s)([^a-z ]*)(h)([^a-z ]*)(i)([^a-z ]*)(t)', 'shite', '\\$hit', 's h i t'],\n",
    "    ' shit hole ':['shythole'],\n",
    "    ' retard ':['returd', 'retad', 'retard', 'wiktard', 'wikitud'],\n",
    "    ' rape ':['raped'],\n",
    "    ' dumb ass':['dumbass', 'dubass'],\n",
    "    ' ass head':['butthead'],\n",
    "    ' nigger ':['nigger', 'ni[g]+a', ' nigr ', 'negrito', 'niguh', 'n3gr', 'n i g g e r'],\n",
    "    ' shut the fuck up': ['stfu'],\n",
    "    ' pussy ': ['pussy[^c]', 'pusy', 'pussi[^l]', 'pusses'],\n",
    "    ' faggot ':['faggot', ' fa[g]+[s]*[^a-z ]', 'fagot', 'f a g g o t', 'faggit',\n",
    "            '(f)([^a-z ]*)(a)([^a-z ]*)([g]+)([^a-z ]*)(o)([^a-z ]*)(t)', 'fau[g]+ot', 'fae[g]+ot',],\n",
    "    ' mother fucker':[' motha ', ' motha f', ' mother f', 'motherucker'],\n",
    "    ' whore ':['wh\\*\\*\\*', 'w h o r e'],\n",
    "    ' link ':['h[\\S]+//[\\S]+']\n",
    "}"
   ]
  },
  {
   "cell_type": "code",
   "execution_count": 178,
   "metadata": {},
   "outputs": [],
   "source": [
    "class preprocessing(object):\n",
    "    def __init__(self,special_chars, pattern):\n",
    "        self.pattern = pattern\n",
    "        self.special_chars = special_chars\n",
    "\n",
    "    def cleanString(self,s):\n",
    "        # remove special chars\n",
    "        for char in self.special_chars:\n",
    "            s = s.replace(char, \"\")\n",
    "        s = s.replace(\"\\\\n\", \" \").replace(\"\\n\", \" \")\n",
    "        s=s.lower()\n",
    "        #remove non-ascii and digits\n",
    "        s=re.sub(\"(\\\\W|\\\\d)\",\" \",s)\n",
    "        # Regular expressions\n",
    "        pattern = re.compile(r\"(.)\\1{2,}\", re.DOTALL)\n",
    "        s = pattern.sub(r\"\\1\", s)\n",
    "        tokenizer = TweetTokenizer()\n",
    "        # Remove stop words\n",
    "        stop_words = set(stopwords.words('english'))\n",
    "        cleaned_words = [w for w in tokenizer.tokenize(s) if w not in stop_words]\n",
    "        return \" \".join(cleaned_words)\n",
    "\n",
    "    def stemWords(self,sentence):\n",
    "        stemmer, tokenizer = PorterStemmer(), TweetTokenizer()\n",
    "        stemmed_words = [stemmer.stem(w) for w in tokenizer.tokenize(sentence)]\n",
    "        return \" \".join(stemmed_words)\n",
    "\n",
    "    def cleanFrame(selfdev,frame):\n",
    "        frame['clean_comment'] = frame.comment_text.apply(selfdev.cleanString)\n",
    "\n",
    "    def stemFrame(selfdev,frame):\n",
    "        frame['stem_comment'] = frame.clean_comment.apply(selfdev.stemWords)\n"
   ]
  },
  {
   "cell_type": "code",
   "execution_count": 179,
   "metadata": {},
   "outputs": [],
   "source": [
    "Preprocessing=preprocessing(special_chars, RE_PATTERNS)\n",
    "Preprocessing.cleanFrame(df)\n",
    "Preprocessing.stemFrame(df)"
   ]
  },
  {
   "cell_type": "code",
   "execution_count": 181,
   "metadata": {},
   "outputs": [
    {
     "data": {
      "text/html": [
       "<div>\n",
       "<style scoped>\n",
       "    .dataframe tbody tr th:only-of-type {\n",
       "        vertical-align: middle;\n",
       "    }\n",
       "\n",
       "    .dataframe tbody tr th {\n",
       "        vertical-align: top;\n",
       "    }\n",
       "\n",
       "    .dataframe thead th {\n",
       "        text-align: right;\n",
       "    }\n",
       "</style>\n",
       "<table border=\"1\" class=\"dataframe\">\n",
       "  <thead>\n",
       "    <tr style=\"text-align: right;\">\n",
       "      <th></th>\n",
       "      <th>id</th>\n",
       "      <th>comment_text</th>\n",
       "      <th>Toxic</th>\n",
       "      <th>clean_comment</th>\n",
       "      <th>stem_comment</th>\n",
       "    </tr>\n",
       "  </thead>\n",
       "  <tbody>\n",
       "    <tr>\n",
       "      <th>76446</th>\n",
       "      <td>ccaa43c55a4995b2</td>\n",
       "      <td>\"\\n\\nSynthesis as per wikipedia means If one r...</td>\n",
       "      <td>0</td>\n",
       "      <td>synthi pr ikipdia man rliabl ourc ay anothr rl...</td>\n",
       "      <td>synthi pr ikipdia man rliabl ourc ay anothr rl...</td>\n",
       "    </tr>\n",
       "    <tr>\n",
       "      <th>141398</th>\n",
       "      <td>f4709f76c13ece4c</td>\n",
       "      <td>\"\\n\\n excessively long / appositive commaS \\n\\...</td>\n",
       "      <td>0</td>\n",
       "      <td>xcily lon appoiti commas thi articl xcily lon ...</td>\n",
       "      <td>xcili lon appoiti comma thi articl xcili lon h...</td>\n",
       "    </tr>\n",
       "    <tr>\n",
       "      <th>124687</th>\n",
       "      <td>9b0a2df4f7cd4131</td>\n",
       "      <td>Lyrics\\nThis is probably not the place for a g...</td>\n",
       "      <td>0</td>\n",
       "      <td>lyric thi probably th plac rat dbat hy arnt ly...</td>\n",
       "      <td>lyric thi probabl th plac rat dbat hy arnt lyr...</td>\n",
       "    </tr>\n",
       "    <tr>\n",
       "      <th>53324</th>\n",
       "      <td>8e8832b78f5efc93</td>\n",
       "      <td>Hello, and welcome to Wikipedia! We appreciate...</td>\n",
       "      <td>0</td>\n",
       "      <td>hllo lcom wikipdia w apprciat contribution th ...</td>\n",
       "      <td>hllo lcom wikipdia w apprciat contribut th ran...</td>\n",
       "    </tr>\n",
       "    <tr>\n",
       "      <th>53885</th>\n",
       "      <td>8ff6a95442291de6</td>\n",
       "      <td>\"Proposal for renaming ==\\n\\nThis article refe...</td>\n",
       "      <td>0</td>\n",
       "      <td>propoal rnamin thi articl rfr th n world ordr ...</td>\n",
       "      <td>propoal rnamin thi articl rfr th n world ordr ...</td>\n",
       "    </tr>\n",
       "  </tbody>\n",
       "</table>\n",
       "</div>"
      ],
      "text/plain": [
       "                      id                                       comment_text  \\\n",
       "76446   ccaa43c55a4995b2  \"\\n\\nSynthesis as per wikipedia means If one r...   \n",
       "141398  f4709f76c13ece4c  \"\\n\\n excessively long / appositive commaS \\n\\...   \n",
       "124687  9b0a2df4f7cd4131  Lyrics\\nThis is probably not the place for a g...   \n",
       "53324   8e8832b78f5efc93  Hello, and welcome to Wikipedia! We appreciate...   \n",
       "53885   8ff6a95442291de6  \"Proposal for renaming ==\\n\\nThis article refe...   \n",
       "\n",
       "        Toxic                                      clean_comment  \\\n",
       "76446       0  synthi pr ikipdia man rliabl ourc ay anothr rl...   \n",
       "141398      0  xcily lon appoiti commas thi articl xcily lon ...   \n",
       "124687      0  lyric thi probably th plac rat dbat hy arnt ly...   \n",
       "53324       0  hllo lcom wikipdia w apprciat contribution th ...   \n",
       "53885       0  propoal rnamin thi articl rfr th n world ordr ...   \n",
       "\n",
       "                                             stem_comment  \n",
       "76446   synthi pr ikipdia man rliabl ourc ay anothr rl...  \n",
       "141398  xcili lon appoiti comma thi articl xcili lon h...  \n",
       "124687  lyric thi probabl th plac rat dbat hy arnt lyr...  \n",
       "53324   hllo lcom wikipdia w apprciat contribut th ran...  \n",
       "53885   propoal rnamin thi articl rfr th n world ordr ...  "
      ]
     },
     "execution_count": 181,
     "metadata": {},
     "output_type": "execute_result"
    }
   ],
   "source": [
    "df.sample(5)"
   ]
  },
  {
   "cell_type": "markdown",
   "metadata": {},
   "source": [
    "# Save data in a pickle"
   ]
  },
  {
   "cell_type": "code",
   "execution_count": 182,
   "metadata": {},
   "outputs": [],
   "source": [
    "import pickle\n",
    "path='../data/jigsaw-toxic-comment-classification-challenge/'\n",
    "toxic_comments_file = open(path+'toxic.pickle','wb') \n",
    "toxic_comments = df\n",
    "pickle.dump(toxic_comments, toxic_comments_file)"
   ]
  },
  {
   "cell_type": "markdown",
   "metadata": {},
   "source": [
    "# Load data"
   ]
  },
  {
   "cell_type": "code",
   "execution_count": 2,
   "metadata": {},
   "outputs": [
    {
     "data": {
      "text/html": [
       "<div>\n",
       "<style scoped>\n",
       "    .dataframe tbody tr th:only-of-type {\n",
       "        vertical-align: middle;\n",
       "    }\n",
       "\n",
       "    .dataframe tbody tr th {\n",
       "        vertical-align: top;\n",
       "    }\n",
       "\n",
       "    .dataframe thead th {\n",
       "        text-align: right;\n",
       "    }\n",
       "</style>\n",
       "<table border=\"1\" class=\"dataframe\">\n",
       "  <thead>\n",
       "    <tr style=\"text-align: right;\">\n",
       "      <th></th>\n",
       "      <th>id</th>\n",
       "      <th>comment_text</th>\n",
       "      <th>Toxic</th>\n",
       "      <th>clean_comment</th>\n",
       "      <th>stem_comment</th>\n",
       "    </tr>\n",
       "  </thead>\n",
       "  <tbody>\n",
       "    <tr>\n",
       "      <th>80262</th>\n",
       "      <td>d6b88c6e396fe7ff</td>\n",
       "      <td>\"\\nAlso, please read Username policy and consi...</td>\n",
       "      <td>0</td>\n",
       "      <td>alo pla rad urnam policy conidr chanin urnam t...</td>\n",
       "      <td>alo pla rad urnam polici conidr chanin urnam t...</td>\n",
       "    </tr>\n",
       "    <tr>\n",
       "      <th>6883</th>\n",
       "      <td>12632af15257fc51</td>\n",
       "      <td>Stalinácio Lula da Silva, by your signature we...</td>\n",
       "      <td>0</td>\n",
       "      <td>stalinácio lula da sila inatur tll ho biad ar ...</td>\n",
       "      <td>stalinácio lula da sila inatur tll ho biad ar ...</td>\n",
       "    </tr>\n",
       "    <tr>\n",
       "      <th>80673</th>\n",
       "      <td>d7d57037d64d04c6</td>\n",
       "      <td>REMOVING IRRELEVANT NONSENSE\\n\\nAD HOMINEM ATT...</td>\n",
       "      <td>1</td>\n",
       "      <td>removing irrelevant nonsense ad hominem attack...</td>\n",
       "      <td>remov irrelev nonsens ad hominem attack place ...</td>\n",
       "    </tr>\n",
       "    <tr>\n",
       "      <th>24257</th>\n",
       "      <td>400e48d8779316c4</td>\n",
       "      <td>I believe that you don't have a fucking clue w...</td>\n",
       "      <td>1</td>\n",
       "      <td>bli dont ha fuckin clu hat talkin fatuorum</td>\n",
       "      <td>bli dont ha fuckin clu hat talkin fatuorum</td>\n",
       "    </tr>\n",
       "    <tr>\n",
       "      <th>89315</th>\n",
       "      <td>eee9c3a1c6d43749</td>\n",
       "      <td>\"\\nNew Zealand has a different approach: this ...</td>\n",
       "      <td>0</td>\n",
       "      <td>n zaland ha diffrnt approach thi uy th hihtpai...</td>\n",
       "      <td>n zaland ha diffrnt approach thi uy th hihtpai...</td>\n",
       "    </tr>\n",
       "  </tbody>\n",
       "</table>\n",
       "</div>"
      ],
      "text/plain": [
       "                     id                                       comment_text  \\\n",
       "80262  d6b88c6e396fe7ff  \"\\nAlso, please read Username policy and consi...   \n",
       "6883   12632af15257fc51  Stalinácio Lula da Silva, by your signature we...   \n",
       "80673  d7d57037d64d04c6  REMOVING IRRELEVANT NONSENSE\\n\\nAD HOMINEM ATT...   \n",
       "24257  400e48d8779316c4  I believe that you don't have a fucking clue w...   \n",
       "89315  eee9c3a1c6d43749  \"\\nNew Zealand has a different approach: this ...   \n",
       "\n",
       "       Toxic                                      clean_comment  \\\n",
       "80262      0  alo pla rad urnam policy conidr chanin urnam t...   \n",
       "6883       0  stalinácio lula da sila inatur tll ho biad ar ...   \n",
       "80673      1  removing irrelevant nonsense ad hominem attack...   \n",
       "24257      1         bli dont ha fuckin clu hat talkin fatuorum   \n",
       "89315      0  n zaland ha diffrnt approach thi uy th hihtpai...   \n",
       "\n",
       "                                            stem_comment  \n",
       "80262  alo pla rad urnam polici conidr chanin urnam t...  \n",
       "6883   stalinácio lula da sila inatur tll ho biad ar ...  \n",
       "80673  remov irrelev nonsens ad hominem attack place ...  \n",
       "24257         bli dont ha fuckin clu hat talkin fatuorum  \n",
       "89315  n zaland ha diffrnt approach thi uy th hihtpai...  "
      ]
     },
     "execution_count": 2,
     "metadata": {},
     "output_type": "execute_result"
    }
   ],
   "source": [
    "path='../data/jigsaw-toxic-comment-classification-challenge/'\n",
    "import pickle\n",
    "toxic_comments = open(path + 'toxic.pickle','rb') \n",
    "data = pickle.load(toxic_comments)\n",
    "data.sample(5)"
   ]
  },
  {
   "cell_type": "code",
   "execution_count": 3,
   "metadata": {},
   "outputs": [
    {
     "data": {
      "text/plain": [
       "159571"
      ]
     },
     "execution_count": 3,
     "metadata": {},
     "output_type": "execute_result"
    }
   ],
   "source": [
    "len(data)"
   ]
  },
  {
   "cell_type": "code",
   "execution_count": 41,
   "metadata": {},
   "outputs": [],
   "source": [
    "data=data.sample(1000)"
   ]
  },
  {
   "cell_type": "code",
   "execution_count": 13,
   "metadata": {},
   "outputs": [],
   "source": [
    "def Lexico(tokens, Lexico):\n",
    "    for word in tokens:\n",
    "        if word in Lexico.keys():\n",
    "            Lexico[word] += 1\n",
    "        else:\n",
    "            Lexico[word] = 1\n",
    "    return Lexico\n",
    "lexico={}\n",
    "tokenizer = nltk.tokenize.TweetTokenizer()\n",
    "\n",
    "for text in data[\"stem_comment\"]:\n",
    "    tokens = tokenizer.tokenize((\" \".join(text)))\n",
    "    lexico.update(Lexico(tokens,lexico))"
   ]
  },
  {
   "cell_type": "code",
   "execution_count": 14,
   "metadata": {},
   "outputs": [
    {
     "data": {
      "text/plain": [
       "6973"
      ]
     },
     "execution_count": 14,
     "metadata": {},
     "output_type": "execute_result"
    }
   ],
   "source": [
    "len(lexico)"
   ]
  },
  {
   "cell_type": "code",
   "execution_count": 16,
   "metadata": {},
   "outputs": [],
   "source": [
    "bag_words=set(lexico.keys())"
   ]
  },
  {
   "cell_type": "code",
   "execution_count": 40,
   "metadata": {},
   "outputs": [],
   "source": [
    "classes=data[\"Toxic\"].values"
   ]
  },
  {
   "cell_type": "code",
   "execution_count": 42,
   "metadata": {},
   "outputs": [],
   "source": [
    "Vectors_no_features = pd.DataFrame(data = lexico, columns = bag_words)\n"
   ]
  },
  {
   "cell_type": "code",
   "execution_count": 31,
   "metadata": {},
   "outputs": [],
   "source": [
    "Vectors = pd.DataFrame(data = lexico, columns = bag_words)\n",
    "Vectors['Capital']=capital\n",
    "Vectors['Questions']=questions\n",
    "Vectors['F_word']=F_word"
   ]
  },
  {
   "cell_type": "code",
   "execution_count": 32,
   "metadata": {},
   "outputs": [
    {
     "data": {
      "text/html": [
       "<div>\n",
       "<style scoped>\n",
       "    .dataframe tbody tr th:only-of-type {\n",
       "        vertical-align: middle;\n",
       "    }\n",
       "\n",
       "    .dataframe tbody tr th {\n",
       "        vertical-align: top;\n",
       "    }\n",
       "\n",
       "    .dataframe thead th {\n",
       "        text-align: right;\n",
       "    }\n",
       "</style>\n",
       "<table border=\"1\" class=\"dataframe\">\n",
       "  <thead>\n",
       "    <tr style=\"text-align: right;\">\n",
       "      <th></th>\n",
       "      <th>mot</th>\n",
       "      <th>janic</th>\n",
       "      <th>ction</th>\n",
       "      <th>arrin</th>\n",
       "      <th>mntal</th>\n",
       "      <th>tur</th>\n",
       "      <th>bioraphi</th>\n",
       "      <th>cunnin</th>\n",
       "      <th>qualiti</th>\n",
       "      <th>dpartmnt</th>\n",
       "      <th>...</th>\n",
       "      <th>commnti</th>\n",
       "      <th>miin</th>\n",
       "      <th>intrior</th>\n",
       "      <th>ninrin</th>\n",
       "      <th>rmain</th>\n",
       "      <th>alntino</th>\n",
       "      <th>dirctly</th>\n",
       "      <th>Capital</th>\n",
       "      <th>Questions</th>\n",
       "      <th>F_word</th>\n",
       "    </tr>\n",
       "  </thead>\n",
       "  <tbody>\n",
       "    <tr>\n",
       "      <th>0</th>\n",
       "      <td>0</td>\n",
       "      <td>0</td>\n",
       "      <td>0</td>\n",
       "      <td>0</td>\n",
       "      <td>0</td>\n",
       "      <td>0</td>\n",
       "      <td>0</td>\n",
       "      <td>0</td>\n",
       "      <td>0</td>\n",
       "      <td>0</td>\n",
       "      <td>...</td>\n",
       "      <td>0</td>\n",
       "      <td>0</td>\n",
       "      <td>0</td>\n",
       "      <td>0</td>\n",
       "      <td>0</td>\n",
       "      <td>0</td>\n",
       "      <td>0</td>\n",
       "      <td>0.395349</td>\n",
       "      <td>1</td>\n",
       "      <td>0</td>\n",
       "    </tr>\n",
       "    <tr>\n",
       "      <th>1</th>\n",
       "      <td>0</td>\n",
       "      <td>0</td>\n",
       "      <td>0</td>\n",
       "      <td>0</td>\n",
       "      <td>0</td>\n",
       "      <td>0</td>\n",
       "      <td>0</td>\n",
       "      <td>0</td>\n",
       "      <td>0</td>\n",
       "      <td>0</td>\n",
       "      <td>...</td>\n",
       "      <td>0</td>\n",
       "      <td>0</td>\n",
       "      <td>0</td>\n",
       "      <td>0</td>\n",
       "      <td>0</td>\n",
       "      <td>0</td>\n",
       "      <td>0</td>\n",
       "      <td>0.470588</td>\n",
       "      <td>0</td>\n",
       "      <td>0</td>\n",
       "    </tr>\n",
       "    <tr>\n",
       "      <th>2</th>\n",
       "      <td>0</td>\n",
       "      <td>0</td>\n",
       "      <td>2</td>\n",
       "      <td>0</td>\n",
       "      <td>0</td>\n",
       "      <td>0</td>\n",
       "      <td>0</td>\n",
       "      <td>0</td>\n",
       "      <td>0</td>\n",
       "      <td>0</td>\n",
       "      <td>...</td>\n",
       "      <td>0</td>\n",
       "      <td>0</td>\n",
       "      <td>0</td>\n",
       "      <td>0</td>\n",
       "      <td>0</td>\n",
       "      <td>0</td>\n",
       "      <td>0</td>\n",
       "      <td>0.095238</td>\n",
       "      <td>0</td>\n",
       "      <td>0</td>\n",
       "    </tr>\n",
       "    <tr>\n",
       "      <th>3</th>\n",
       "      <td>0</td>\n",
       "      <td>0</td>\n",
       "      <td>0</td>\n",
       "      <td>0</td>\n",
       "      <td>0</td>\n",
       "      <td>0</td>\n",
       "      <td>0</td>\n",
       "      <td>0</td>\n",
       "      <td>0</td>\n",
       "      <td>0</td>\n",
       "      <td>...</td>\n",
       "      <td>0</td>\n",
       "      <td>0</td>\n",
       "      <td>0</td>\n",
       "      <td>0</td>\n",
       "      <td>0</td>\n",
       "      <td>0</td>\n",
       "      <td>1</td>\n",
       "      <td>0.097345</td>\n",
       "      <td>0</td>\n",
       "      <td>0</td>\n",
       "    </tr>\n",
       "    <tr>\n",
       "      <th>4</th>\n",
       "      <td>0</td>\n",
       "      <td>0</td>\n",
       "      <td>1</td>\n",
       "      <td>0</td>\n",
       "      <td>0</td>\n",
       "      <td>0</td>\n",
       "      <td>0</td>\n",
       "      <td>0</td>\n",
       "      <td>0</td>\n",
       "      <td>0</td>\n",
       "      <td>...</td>\n",
       "      <td>0</td>\n",
       "      <td>0</td>\n",
       "      <td>0</td>\n",
       "      <td>0</td>\n",
       "      <td>0</td>\n",
       "      <td>0</td>\n",
       "      <td>0</td>\n",
       "      <td>0.153846</td>\n",
       "      <td>1</td>\n",
       "      <td>0</td>\n",
       "    </tr>\n",
       "    <tr>\n",
       "      <th>...</th>\n",
       "      <td>...</td>\n",
       "      <td>...</td>\n",
       "      <td>...</td>\n",
       "      <td>...</td>\n",
       "      <td>...</td>\n",
       "      <td>...</td>\n",
       "      <td>...</td>\n",
       "      <td>...</td>\n",
       "      <td>...</td>\n",
       "      <td>...</td>\n",
       "      <td>...</td>\n",
       "      <td>...</td>\n",
       "      <td>...</td>\n",
       "      <td>...</td>\n",
       "      <td>...</td>\n",
       "      <td>...</td>\n",
       "      <td>...</td>\n",
       "      <td>...</td>\n",
       "      <td>...</td>\n",
       "      <td>...</td>\n",
       "      <td>...</td>\n",
       "    </tr>\n",
       "    <tr>\n",
       "      <th>995</th>\n",
       "      <td>0</td>\n",
       "      <td>0</td>\n",
       "      <td>0</td>\n",
       "      <td>0</td>\n",
       "      <td>0</td>\n",
       "      <td>0</td>\n",
       "      <td>0</td>\n",
       "      <td>0</td>\n",
       "      <td>0</td>\n",
       "      <td>0</td>\n",
       "      <td>...</td>\n",
       "      <td>0</td>\n",
       "      <td>0</td>\n",
       "      <td>0</td>\n",
       "      <td>0</td>\n",
       "      <td>0</td>\n",
       "      <td>0</td>\n",
       "      <td>0</td>\n",
       "      <td>0.197183</td>\n",
       "      <td>0</td>\n",
       "      <td>0</td>\n",
       "    </tr>\n",
       "    <tr>\n",
       "      <th>996</th>\n",
       "      <td>0</td>\n",
       "      <td>0</td>\n",
       "      <td>2</td>\n",
       "      <td>0</td>\n",
       "      <td>0</td>\n",
       "      <td>0</td>\n",
       "      <td>0</td>\n",
       "      <td>0</td>\n",
       "      <td>0</td>\n",
       "      <td>0</td>\n",
       "      <td>...</td>\n",
       "      <td>0</td>\n",
       "      <td>0</td>\n",
       "      <td>0</td>\n",
       "      <td>0</td>\n",
       "      <td>0</td>\n",
       "      <td>0</td>\n",
       "      <td>0</td>\n",
       "      <td>0.292135</td>\n",
       "      <td>0</td>\n",
       "      <td>0</td>\n",
       "    </tr>\n",
       "    <tr>\n",
       "      <th>997</th>\n",
       "      <td>0</td>\n",
       "      <td>0</td>\n",
       "      <td>0</td>\n",
       "      <td>0</td>\n",
       "      <td>0</td>\n",
       "      <td>0</td>\n",
       "      <td>0</td>\n",
       "      <td>0</td>\n",
       "      <td>0</td>\n",
       "      <td>0</td>\n",
       "      <td>...</td>\n",
       "      <td>0</td>\n",
       "      <td>0</td>\n",
       "      <td>0</td>\n",
       "      <td>0</td>\n",
       "      <td>0</td>\n",
       "      <td>0</td>\n",
       "      <td>0</td>\n",
       "      <td>0.154639</td>\n",
       "      <td>0</td>\n",
       "      <td>0</td>\n",
       "    </tr>\n",
       "    <tr>\n",
       "      <th>998</th>\n",
       "      <td>0</td>\n",
       "      <td>0</td>\n",
       "      <td>0</td>\n",
       "      <td>0</td>\n",
       "      <td>0</td>\n",
       "      <td>0</td>\n",
       "      <td>0</td>\n",
       "      <td>0</td>\n",
       "      <td>0</td>\n",
       "      <td>0</td>\n",
       "      <td>...</td>\n",
       "      <td>0</td>\n",
       "      <td>0</td>\n",
       "      <td>0</td>\n",
       "      <td>0</td>\n",
       "      <td>0</td>\n",
       "      <td>0</td>\n",
       "      <td>0</td>\n",
       "      <td>0.079096</td>\n",
       "      <td>0</td>\n",
       "      <td>0</td>\n",
       "    </tr>\n",
       "    <tr>\n",
       "      <th>999</th>\n",
       "      <td>0</td>\n",
       "      <td>0</td>\n",
       "      <td>0</td>\n",
       "      <td>0</td>\n",
       "      <td>0</td>\n",
       "      <td>0</td>\n",
       "      <td>0</td>\n",
       "      <td>0</td>\n",
       "      <td>0</td>\n",
       "      <td>0</td>\n",
       "      <td>...</td>\n",
       "      <td>0</td>\n",
       "      <td>0</td>\n",
       "      <td>0</td>\n",
       "      <td>0</td>\n",
       "      <td>0</td>\n",
       "      <td>0</td>\n",
       "      <td>0</td>\n",
       "      <td>0.125000</td>\n",
       "      <td>0</td>\n",
       "      <td>0</td>\n",
       "    </tr>\n",
       "  </tbody>\n",
       "</table>\n",
       "<p>1000 rows × 6976 columns</p>\n",
       "</div>"
      ],
      "text/plain": [
       "     mot  janic  ction  arrin  mntal  tur  bioraphi  cunnin  qualiti  \\\n",
       "0      0      0      0      0      0    0         0       0        0   \n",
       "1      0      0      0      0      0    0         0       0        0   \n",
       "2      0      0      2      0      0    0         0       0        0   \n",
       "3      0      0      0      0      0    0         0       0        0   \n",
       "4      0      0      1      0      0    0         0       0        0   \n",
       "..   ...    ...    ...    ...    ...  ...       ...     ...      ...   \n",
       "995    0      0      0      0      0    0         0       0        0   \n",
       "996    0      0      2      0      0    0         0       0        0   \n",
       "997    0      0      0      0      0    0         0       0        0   \n",
       "998    0      0      0      0      0    0         0       0        0   \n",
       "999    0      0      0      0      0    0         0       0        0   \n",
       "\n",
       "     dpartmnt  ...  commnti  miin  intrior  ninrin  rmain  alntino  dirctly  \\\n",
       "0           0  ...        0     0        0       0      0        0        0   \n",
       "1           0  ...        0     0        0       0      0        0        0   \n",
       "2           0  ...        0     0        0       0      0        0        0   \n",
       "3           0  ...        0     0        0       0      0        0        1   \n",
       "4           0  ...        0     0        0       0      0        0        0   \n",
       "..        ...  ...      ...   ...      ...     ...    ...      ...      ...   \n",
       "995         0  ...        0     0        0       0      0        0        0   \n",
       "996         0  ...        0     0        0       0      0        0        0   \n",
       "997         0  ...        0     0        0       0      0        0        0   \n",
       "998         0  ...        0     0        0       0      0        0        0   \n",
       "999         0  ...        0     0        0       0      0        0        0   \n",
       "\n",
       "      Capital  Questions  F_word  \n",
       "0    0.395349          1       0  \n",
       "1    0.470588          0       0  \n",
       "2    0.095238          0       0  \n",
       "3    0.097345          0       0  \n",
       "4    0.153846          1       0  \n",
       "..        ...        ...     ...  \n",
       "995  0.197183          0       0  \n",
       "996  0.292135          0       0  \n",
       "997  0.154639          0       0  \n",
       "998  0.079096          0       0  \n",
       "999  0.125000          0       0  \n",
       "\n",
       "[1000 rows x 6976 columns]"
      ]
     },
     "execution_count": 32,
     "metadata": {},
     "output_type": "execute_result"
    }
   ],
   "source": [
    "Vectors"
   ]
  },
  {
   "cell_type": "code",
   "execution_count": null,
   "metadata": {},
   "outputs": [],
   "source": []
  },
  {
   "cell_type": "markdown",
   "metadata": {},
   "source": [
    "# Logistic Regression"
   ]
  },
  {
   "cell_type": "code",
   "execution_count": 52,
   "metadata": {},
   "outputs": [],
   "source": [
    "class Logistic_regression:\n",
    "    def __init__(self, lr,num_iter):\n",
    "        self.num_iter = num_iter\n",
    "        self.lr = lr\n",
    "    def bias_init(self, X):\n",
    "        #This fucntions is to set the bias and concatenate it on the matrix X (X_test)\n",
    "        bias = np.ones((X.shape[0], 1))\n",
    "        return np.concatenate((bias, X), axis=1)\n",
    "    def weight_init(self, X):\n",
    "        #Here we start all the weights to 0\n",
    "        return np.zeros(X.shape[1])\n",
    "    def CrossEntropy(self,h,y):\n",
    "        #Loss function (cross entropy)\n",
    "        loss=0\n",
    "        for i in range(len(y)):\n",
    "            if y[i]==0:\n",
    "                loss+= log(1-h[i])\n",
    "            else:\n",
    "                loss+= log(h[i])\n",
    "        return loss\n",
    "    def gradient_descent(self, x, y, yhat):\n",
    "        # We compute the descendent gradient\n",
    "        return np.dot(x.T, (yhat - y))/y.size\n",
    "    def optimize(self, x, y, yhat, theta):\n",
    "        # We update the weights\n",
    "        # This is done by the use of gradient and learning rate\n",
    "        gradient = self.gradient_descent(x, y, yhat)\n",
    "        theta -= self.lr * gradient\n",
    "        return theta\n",
    "    def activation_sigmoid(self, z):\n",
    "        #We activate by the sigmoidal function\n",
    "        return 1 / (1 + np.exp(-z))\n",
    "    def predict(self, X):\n",
    "        #Predict the values by using activation function\n",
    "        X = self.bias_init(X)\n",
    "        pred = self.activation_sigmoid(np.dot(X, self.theta))\n",
    "        return pred.round()\n",
    "    def fit(self, X, y):\n",
    "        # Set bias\n",
    "        X = self.bias_init(X)\n",
    "        # Here we are going to start the weights\n",
    "        self.theta = self.weight_init(X)\n",
    "        for i in range(self.num_iter):\n",
    "            #dot product of X and weights to get z\n",
    "            z = np.dot(X, self.theta)\n",
    "            # predicted\n",
    "            h = self.activation_sigmoid(z)\n",
    "            #update the weights\n",
    "            self.theta = self.optimize(X, y, h, self.theta)\n",
    "            loss=  self.CrossEntropy(h,y)\n",
    "            #print(f'loss: {loss} \\t')"
   ]
  },
  {
   "cell_type": "code",
   "execution_count": 58,
   "metadata": {},
   "outputs": [],
   "source": [
    "from sklearn.utils import shuffle\n",
    "shuffle(X_train,y_train)\n",
    "\n",
    "def K_fold(X, y, k):\n",
    "    X, y = shuffle(X, y)\n",
    "    left_overs = {}\n",
    "    sets = []\n",
    "    max_accu = 0\n",
    "    matrix = []\n",
    "    report = []\n",
    "    accuracy = []\n",
    "    best_set = -1\n",
    "    n_left_overs = (len(y) % k)\n",
    "    if n_left_overs != 0:\n",
    "        left_overs[\"X\"] = X[-n_left_overs:]\n",
    "        left_overs[\"y\"] = y[-n_left_overs:]\n",
    "        X = X[:-n_left_overs]\n",
    "        y = y[:-n_left_overs]\n",
    "\n",
    "    X_split = np.split(X, k)\n",
    "    y_split = np.split(y, k)\n",
    "    \n",
    "    for i in range(k):\n",
    "        X_test, y_test = X_split[i], y_split[i]\n",
    "        X_train = np.concatenate(X_split[:i] + X_split[i + 1:], axis=0)\n",
    "        y_train = np.concatenate(y_split[:i] + y_split[i + 1:], axis=0)\n",
    "        \n",
    "        log_reg = Logistic_regression(lr = 0.0001, num_iter = 1000)\n",
    "        log_reg.fit(X_train, y_train)\n",
    "        predictions = log_reg.predict(X_test)\n",
    "        matrix.append(confusion_matrix(y_test,predictions))  \n",
    "        report.append(classification_report(y_test,predictions))  \n",
    "        accuracy.append(accuracy_score(y_test, predictions))\n",
    "        \n",
    "        if accuracy_score(y_test, predictions) > max_accu:\n",
    "            max_accu = accuracy_score(y_test, predictions)\n",
    "            best_set = i\n",
    "        sets.append([X_train, X_test, y_train, y_test])\n",
    "    if n_left_overs != 0:\n",
    "        np.append(sets[-1][0], left_overs[\"X\"], axis=0)\n",
    "        np.append(sets[-1][2], left_overs[\"y\"], axis=0)\n",
    "\n",
    "    return best_set, matrix, report , accuracy"
   ]
  },
  {
   "cell_type": "code",
   "execution_count": 61,
   "metadata": {},
   "outputs": [
    {
     "name": "stderr",
     "output_type": "stream",
     "text": [
      "/home/cj/.local/lib/python3.6/site-packages/sklearn/metrics/_classification.py:1221: UndefinedMetricWarning: Precision and F-score are ill-defined and being set to 0.0 in labels with no predicted samples. Use `zero_division` parameter to control this behavior.\n",
      "  _warn_prf(average, modifier, msg_start, len(result))\n"
     ]
    }
   ],
   "source": [
    "best_set, matrix, report, accuracy = K_fold(Vectors_no_features, classes, 5)"
   ]
  },
  {
   "cell_type": "code",
   "execution_count": 62,
   "metadata": {},
   "outputs": [
    {
     "name": "stdout",
     "output_type": "stream",
     "text": [
      "[[181   0]\n",
      " [ 19   0]]\n"
     ]
    }
   ],
   "source": [
    "print(matrix[best_set])"
   ]
  },
  {
   "cell_type": "code",
   "execution_count": 63,
   "metadata": {},
   "outputs": [
    {
     "name": "stdout",
     "output_type": "stream",
     "text": [
      "              precision    recall  f1-score   support\n",
      "\n",
      "           0       0.91      1.00      0.95       181\n",
      "           1       0.00      0.00      0.00        19\n",
      "\n",
      "    accuracy                           0.91       200\n",
      "   macro avg       0.45      0.50      0.48       200\n",
      "weighted avg       0.82      0.91      0.86       200\n",
      "\n"
     ]
    }
   ],
   "source": [
    "print(report[best_set])"
   ]
  },
  {
   "cell_type": "code",
   "execution_count": 64,
   "metadata": {},
   "outputs": [
    {
     "name": "stdout",
     "output_type": "stream",
     "text": [
      "0.905\n"
     ]
    }
   ],
   "source": [
    "print(accuracy[best_set])"
   ]
  },
  {
   "cell_type": "code",
   "execution_count": null,
   "metadata": {},
   "outputs": [],
   "source": []
  },
  {
   "cell_type": "code",
   "execution_count": 65,
   "metadata": {},
   "outputs": [],
   "source": [
    "best_set, matrix, report, accuracy = K_fold(Vectors, classes, 5)"
   ]
  },
  {
   "cell_type": "code",
   "execution_count": 66,
   "metadata": {},
   "outputs": [
    {
     "name": "stdout",
     "output_type": "stream",
     "text": [
      "              precision    recall  f1-score   support\n",
      "\n",
      "           0       0.92      1.00      0.96       183\n",
      "           1       0.00      0.00      0.00        17\n",
      "\n",
      "    accuracy                           0.92       200\n",
      "   macro avg       0.46      0.50      0.48       200\n",
      "weighted avg       0.84      0.92      0.87       200\n",
      "\n",
      "[[183   0]\n",
      " [ 17   0]]\n",
      "0.915\n"
     ]
    }
   ],
   "source": [
    "print(report[best_set])\n",
    "print(matrix[best_set])\n",
    "print(accuracy[best_set])"
   ]
  },
  {
   "cell_type": "markdown",
   "metadata": {},
   "source": [
    "# Balanced Classes"
   ]
  },
  {
   "cell_type": "code",
   "execution_count": 84,
   "metadata": {},
   "outputs": [],
   "source": [
    "balanced=data.sample(10000)"
   ]
  },
  {
   "cell_type": "code",
   "execution_count": 85,
   "metadata": {},
   "outputs": [
    {
     "name": "stdout",
     "output_type": "stream",
     "text": [
      "Toxic: 1050 10.5%\n",
      "Non toxic: 8950 89.5%\n"
     ]
    }
   ],
   "source": [
    "toxic, non_toxic = makingClasses(balanced)"
   ]
  },
  {
   "cell_type": "code",
   "execution_count": 86,
   "metadata": {},
   "outputs": [],
   "source": [
    "non_toxic=non_toxic.sample(len(toxic))"
   ]
  },
  {
   "cell_type": "code",
   "execution_count": 92,
   "metadata": {},
   "outputs": [],
   "source": [
    "data_balanced=pd.concat([toxic,non_toxic])"
   ]
  },
  {
   "cell_type": "code",
   "execution_count": 94,
   "metadata": {},
   "outputs": [
    {
     "data": {
      "text/plain": [
       "2100"
      ]
     },
     "execution_count": 94,
     "metadata": {},
     "output_type": "execute_result"
    }
   ],
   "source": [
    "len(data_balanced)"
   ]
  },
  {
   "cell_type": "code",
   "execution_count": 71,
   "metadata": {},
   "outputs": [],
   "source": [
    "def Lexico(tokens, Lexico):\n",
    "    for word in tokens:\n",
    "        if word in Lexico.keys():\n",
    "            Lexico[word] += 1\n",
    "        else:\n",
    "            Lexico[word] = 1\n",
    "    return Lexico\n",
    "lexico_balanced={}\n",
    "tokenizer = nltk.tokenize.TweetTokenizer()\n",
    "\n",
    "for text in data_balanced[\"stem_comment\"]:\n",
    "    tokens = tokenizer.tokenize((\"\".join(text)))\n",
    "    lexico_balanced.update(Lexico(tokens,lexico_balanced))\n",
    "bag_words = set(lexico_balanced)"
   ]
  },
  {
   "cell_type": "code",
   "execution_count": 118,
   "metadata": {},
   "outputs": [
    {
     "name": "stderr",
     "output_type": "stream",
     "text": [
      "/usr/local/lib/python3.6/dist-packages/ipykernel_launcher.py:3: DeprecationWarning: Calling np.sum(generator) is deprecated, and in the future will give a different result. Use np.sum(np.fromiter(generator)) or the python sum builtin instead.\n",
      "  This is separate from the ipykernel package so we can avoid doing imports until\n"
     ]
    }
   ],
   "source": [
    "Vectors_balanced = pd.DataFrame(data = lexico_balanced, columns = bag_words)\n",
    "capital, questions, F_word = Features(data_balanced)\n",
    "Vectors_balanced['Capital']=capital\n",
    "Vectors_balanced['Questions']=questions\n",
    "Vectors_balanced['F_word']=F_word"
   ]
  },
  {
   "cell_type": "code",
   "execution_count": 122,
   "metadata": {},
   "outputs": [],
   "source": [
    "classes_balanced=data_balanced[\"Toxic\"].values"
   ]
  },
  {
   "cell_type": "code",
   "execution_count": 129,
   "metadata": {},
   "outputs": [
    {
     "name": "stdout",
     "output_type": "stream",
     "text": [
      "              precision    recall  f1-score   support\n",
      "\n",
      "           0       0.64      0.92      0.75       206\n",
      "           1       0.86      0.50      0.63       214\n",
      "\n",
      "    accuracy                           0.70       420\n",
      "   macro avg       0.75      0.71      0.69       420\n",
      "weighted avg       0.75      0.70      0.69       420\n",
      "\n",
      "[[189  17]\n",
      " [107 107]]\n",
      "0.7047619047619048\n"
     ]
    }
   ],
   "source": [
    "best_set, matrix, report, accuracy = K_fold(Vectors_balanced2, classes_balanced, 5)\n",
    "print(report[best_set])\n",
    "print(matrix[best_set])\n",
    "print(accuracy[best_set])"
   ]
  },
  {
   "cell_type": "code",
   "execution_count": null,
   "metadata": {},
   "outputs": [],
   "source": []
  }
 ],
 "metadata": {
  "kernelspec": {
   "display_name": "Python 3",
   "language": "python",
   "name": "python3"
  },
  "language_info": {
   "codemirror_mode": {
    "name": "ipython",
    "version": 3
   },
   "file_extension": ".py",
   "mimetype": "text/x-python",
   "name": "python",
   "nbconvert_exporter": "python",
   "pygments_lexer": "ipython3",
   "version": "3.6.9"
  }
 },
 "nbformat": 4,
 "nbformat_minor": 4
}
